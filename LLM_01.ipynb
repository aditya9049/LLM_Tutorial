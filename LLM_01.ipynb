{
 "cells": [
  {
   "cell_type": "code",
   "execution_count": null,
   "metadata": {
    "id": "55c1_doqiERn"
   },
   "outputs": [],
   "source": [
    " %%capture\n",
    "!pip install transformers>=4.40.1 accelerate>=0.27.2"
   ]
  },
  {
   "cell_type": "code",
   "execution_count": null,
   "metadata": {
    "colab": {
     "base_uri": "https://localhost:8080/",
     "height": 401,
     "referenced_widgets": [
      "cc17774ff7db4ddfa1db528b30f6b7a3",
      "3a7266bce6534df09ce10f8269b938a9",
      "87c990e77dbc42cf91ad5c66ba7be239",
      "46924f90805e4204a9988d0a1a0c8f17",
      "c6dd326b19d9459d8875a7deff00f8eb",
      "16d8b4d489c7430095dece4fbf3fc293",
      "1882b239f0e8458d9c156a3318755780",
      "d5ddd383bb79471d830388cd51902f82",
      "d8737045b5814bc798a0e2e31fb3d98c",
      "8b6434349ea14450810ccbf7a0344134",
      "cac635a8762c415fad89db5488964114",
      "09e31657be40479abf6e43964de08d0e",
      "61e9c90a9deb45b2a22ed9272e85ad8a",
      "47a8452c845b4816bfbbd8651bc6c250",
      "f9921de556924dd48baa7055a4186dd9",
      "4d2d207e7f994ccdb5ccf01f8f3f0719",
      "0cbfa2dc19a54870830f6f20066a060e",
      "8a462f6ba7574749a8ac70a9e6db2994",
      "c3ab7386037946a4b954b944eea374e0",
      "5133cdd795924d7fb1bf89d7f3e437ce",
      "75277b9c631a4149a4255dda95d22302",
      "b090e2000246465ea49f9fb3470991b9",
      "e52ba915c3ba438f893eba2ca2e97fd2",
      "756ce31123034060bf12ffcf03ed2b42",
      "1fdb9f69ddfc4d18a38b738c0b46f409",
      "e3491b3bed0d4bd7af38215316430d29",
      "0b92094090784ef5813327c271fd898b",
      "601488103fe7438abba44fc8a5add361",
      "3fe63b643d7146c49a0beeaf5bb17617",
      "f397b1feb72c463383164cc2d6996246",
      "e7799cb656c8444b8f3d18b133f86e15",
      "a69b6eeb45494ad89670e882bf473fb2",
      "a894b125f9424c35ad77ff1461ad2e94",
      "52196d29a3ca4200ac036d2d395d40ad",
      "fb3f453f639041768b3434b03c6f8f3b",
      "3a73ff7dd68140249cbc376ad6cc0f1b",
      "603d94b0070b4fd7834114b5f61b8de2",
      "3c2583fc48e744b087452c5c02f56477",
      "6f938932e901407ba112f855725b1efd",
      "2d805283ccba49adaf90c3db7483be1f",
      "6d5b5c4fe63149d19229131703b5c9f1",
      "90d03e5e326f4a3ca2fb611503c1a4a3",
      "d21840bfb9704aee872a813a916fd7fb",
      "e8a3b7fed5354661a97bb0013f40ecbe",
      "d2db78d20a044cbea06f651a994f3354",
      "28b688b5fbda480380ba7dd0cb4aa3b1",
      "df508e1d7d054b0998ecdcdeaa1276f4",
      "7fa37997b7ba42208c2bc322369c3d8b",
      "486da93664704192b418d0e05c26a854",
      "683816a0736a40bbba6e58d7950af956",
      "47ae5682dd33448898a73842ab1f07ad",
      "eb65ef9cbaff44739fb82d4e7b16dc5c",
      "7f3fac3ec1b34fb791ac93a62b742271",
      "f8a374e41b2f489eb51216a3226745e1",
      "67544768d3ad4bbbba5396dbd2023e8c",
      "e58177ff3c6247dab2a32eb693a3d02c",
      "07bd50c7e3a74066aeed7376ab3c6dc7",
      "282b8085dd824b4d9f5a12860a82f9a3",
      "0372e7b242a84feabefef41744988818",
      "698e55c23cee46eea7a33205f7285e6f",
      "18c0896630f64e5fb9f5b152639eda00",
      "fcaed8efc16448539c24a4058cece0a5",
      "fa12b087cc584c4dbbea897cfc4366a5",
      "f7caa4a21d284a3fbc7e771ad478b21a",
      "0d22db93157544ad91dbdc9a27606a73",
      "a7d85afbff8a41c9a00a558724e9f3a5",
      "06739ccb9c224b298ea32423c21098b8",
      "4c40a42cbc2f47abbe60bdef66b62873",
      "3a19438ab3164419b1d73da896ba78f1",
      "9281bf4f24a742f590792c35030c711d",
      "158c674b57944f1197898122b4621d42",
      "5b969917c9894ae4a659212f796edbc5",
      "02fe0860fee543338445ddb34806c4bc",
      "23854002d59c4c8ebd0d675822ad4a03",
      "6958f2c9420b4cd6a2329c394776c959",
      "eec6d109a2ab4e4e9a3134b7de577dbf",
      "c3465220e4134fa99b708493edd044d8",
      "8ea451d542ca4a5fa13d719f3ed90318",
      "26bf446857be488ea18ebdf9b9f2951f",
      "7cf03300837f46f0b2eb2c8a97a186ea",
      "c2e3e46fc7614fc19a35cab350cf251c",
      "c3b1c3f5fd70469d892ec4822a98c3c3",
      "611b9fb7bcb44b73a61dc96e70cdf5de",
      "de4569e3a65c40ea9ac4b815eaff6ecc",
      "65ca37aa0b7e4854a356d61807b8669f",
      "00ecf060ba9c4afe9e78282a33895be0",
      "fe62b6399ec146eb8d81048955305c58",
      "b1d96e3c56a9413db3683e88b78c35aa",
      "18a519984ba643a2abe1c6b70c0215c3",
      "1d07344ea0784748ac5e53f6e652e1de",
      "0358ca7aecbc4ba89533010fd6d96fc8",
      "9ea1183ac1be407f946897dead1219fd",
      "13ebcdccc38a43a7b1eb3f6afd67c0fd",
      "76d0e566cfd24093abcfd42f22994042",
      "4962bd3ce7e348e98c45ad3d49bd0901",
      "d946ea428cd04f0d958a3e0ee8c744e2",
      "cde405d2c5c54b9398928ea297ab9238",
      "94d8fb9b0b834ed0883b03b78befb0bd",
      "85656304acef40939b2249a802fd17f6",
      "e697f00534104b21af20b50b5a5a6086",
      "e0a91555825c49519c76d79d7c24fc09",
      "4bc9fe2972cb44ad9abe2312e30d88ee",
      "41ac68a06e2040eb955ab7b0ca3401c6",
      "e256cd8dd45e4d38a4dca7f310ecd411",
      "8067a5440610489d97320bb3253a3be4",
      "8bf9c841c4a94b4088e16ca4b168d319",
      "64665d4c37584151aa3a4fad056619b7",
      "41fb5bc5b92e4c4db0ea8a8c8e58db86",
      "326db3b92dea4cb590cce22dbbb84570",
      "94870a9fe44d4d3785b56f6bd80d6d9d",
      "52328379d6e2405faf2b677e5abfc995",
      "f2fd9da8312e4f369aa2b6fadac7eeec",
      "68164b21fc744aa3bb2c4da4e4ae53d4",
      "cc05daa36fd640ce8e0f2ebe00948f7a",
      "1566cb9c737f47ddb233e84f4db79821",
      "5d8378611edf4006a50d6072ccaf7822",
      "ea1aaab18400485fb67ba2678e635c4c",
      "43a2858496804e71b683f24b7fd23fff",
      "24890cb3e229471db874e615337490d4",
      "2212121d79af44cbbcfb1376345030e1",
      "cb41a9cc21be476399553027031aa82f",
      "93cef5d75fef4508a20c7603ccf18b43",
      "8b1629dbf8ef4ef799b4a43058fd5a59",
      "68cbe6c25ee84709a7cf137dbd5c47bf",
      "43b5c28160f54977a9bbe1841148f548",
      "59a656ae7239422e811e3d0115636b20",
      "fe7867b70b2f4c2db14d3db177923055",
      "8e13bbfae722458bac2ecfb22ca97361",
      "50b888872a584c459d8364b0d2c5ca35",
      "eccef294ff414657b00d43f103ea04ef",
      "c235cfc58e904397b9f694512c75db0e",
      "aec6d2b153ac4c6f9b88581b6c5c4f89"
     ]
    },
    "id": "aOx0jY2tkdvC",
    "outputId": "aa3733fd-06bf-4b24-8592-80f1ea5351a2"
   },
   "outputs": [
    {
     "data": {
      "application/vnd.jupyter.widget-view+json": {
       "model_id": "cc17774ff7db4ddfa1db528b30f6b7a3",
       "version_major": 2,
       "version_minor": 0
      },
      "text/plain": [
       "config.json:   0%|          | 0.00/967 [00:00<?, ?B/s]"
      ]
     },
     "metadata": {},
     "output_type": "display_data"
    },
    {
     "data": {
      "application/vnd.jupyter.widget-view+json": {
       "model_id": "09e31657be40479abf6e43964de08d0e",
       "version_major": 2,
       "version_minor": 0
      },
      "text/plain": [
       "model.safetensors.index.json: 0.00B [00:00, ?B/s]"
      ]
     },
     "metadata": {},
     "output_type": "display_data"
    },
    {
     "data": {
      "application/vnd.jupyter.widget-view+json": {
       "model_id": "e52ba915c3ba438f893eba2ca2e97fd2",
       "version_major": 2,
       "version_minor": 0
      },
      "text/plain": [
       "Fetching 2 files:   0%|          | 0/2 [00:00<?, ?it/s]"
      ]
     },
     "metadata": {},
     "output_type": "display_data"
    },
    {
     "data": {
      "application/vnd.jupyter.widget-view+json": {
       "model_id": "52196d29a3ca4200ac036d2d395d40ad",
       "version_major": 2,
       "version_minor": 0
      },
      "text/plain": [
       "model-00002-of-00002.safetensors:   0%|          | 0.00/2.67G [00:00<?, ?B/s]"
      ]
     },
     "metadata": {},
     "output_type": "display_data"
    },
    {
     "data": {
      "application/vnd.jupyter.widget-view+json": {
       "model_id": "d2db78d20a044cbea06f651a994f3354",
       "version_major": 2,
       "version_minor": 0
      },
      "text/plain": [
       "model-00001-of-00002.safetensors:   0%|          | 0.00/4.97G [00:00<?, ?B/s]"
      ]
     },
     "metadata": {},
     "output_type": "display_data"
    },
    {
     "data": {
      "application/vnd.jupyter.widget-view+json": {
       "model_id": "e58177ff3c6247dab2a32eb693a3d02c",
       "version_major": 2,
       "version_minor": 0
      },
      "text/plain": [
       "Loading checkpoint shards:   0%|          | 0/2 [00:00<?, ?it/s]"
      ]
     },
     "metadata": {},
     "output_type": "display_data"
    },
    {
     "data": {
      "application/vnd.jupyter.widget-view+json": {
       "model_id": "06739ccb9c224b298ea32423c21098b8",
       "version_major": 2,
       "version_minor": 0
      },
      "text/plain": [
       "generation_config.json:   0%|          | 0.00/181 [00:00<?, ?B/s]"
      ]
     },
     "metadata": {},
     "output_type": "display_data"
    },
    {
     "data": {
      "application/vnd.jupyter.widget-view+json": {
       "model_id": "8ea451d542ca4a5fa13d719f3ed90318",
       "version_major": 2,
       "version_minor": 0
      },
      "text/plain": [
       "tokenizer_config.json: 0.00B [00:00, ?B/s]"
      ]
     },
     "metadata": {},
     "output_type": "display_data"
    },
    {
     "data": {
      "application/vnd.jupyter.widget-view+json": {
       "model_id": "18a519984ba643a2abe1c6b70c0215c3",
       "version_major": 2,
       "version_minor": 0
      },
      "text/plain": [
       "tokenizer.model:   0%|          | 0.00/500k [00:00<?, ?B/s]"
      ]
     },
     "metadata": {},
     "output_type": "display_data"
    },
    {
     "data": {
      "application/vnd.jupyter.widget-view+json": {
       "model_id": "e697f00534104b21af20b50b5a5a6086",
       "version_major": 2,
       "version_minor": 0
      },
      "text/plain": [
       "tokenizer.json: 0.00B [00:00, ?B/s]"
      ]
     },
     "metadata": {},
     "output_type": "display_data"
    },
    {
     "data": {
      "application/vnd.jupyter.widget-view+json": {
       "model_id": "52328379d6e2405faf2b677e5abfc995",
       "version_major": 2,
       "version_minor": 0
      },
      "text/plain": [
       "added_tokens.json:   0%|          | 0.00/306 [00:00<?, ?B/s]"
      ]
     },
     "metadata": {},
     "output_type": "display_data"
    },
    {
     "data": {
      "application/vnd.jupyter.widget-view+json": {
       "model_id": "93cef5d75fef4508a20c7603ccf18b43",
       "version_major": 2,
       "version_minor": 0
      },
      "text/plain": [
       "special_tokens_map.json:   0%|          | 0.00/599 [00:00<?, ?B/s]"
      ]
     },
     "metadata": {},
     "output_type": "display_data"
    }
   ],
   "source": [
    "import torch\n",
    "from transformers import AutoModelForCausalLM, AutoTokenizer\n",
    "\n",
    "# Load the model\n",
    "model = AutoModelForCausalLM.from_pretrained(\n",
    "    \"microsoft/Phi-3-mini-4k-instruct\",\n",
    "    device_map=\"cuda\",\n",
    "    torch_dtype=\"auto\",\n",
    "    trust_remote_code=False\n",
    ")\n",
    "\n",
    "# Load the tokenizer\n",
    "tokenizer = AutoTokenizer.from_pretrained(\"microsoft/Phi-3-mini-4k-instruct\")\n"
   ]
  },
  {
   "cell_type": "code",
   "execution_count": null,
   "metadata": {
    "colab": {
     "base_uri": "https://localhost:8080/"
    },
    "id": "rqcdQn4roShs",
    "outputId": "e091fb24-2597-4dad-91c5-51ceb853bda0"
   },
   "outputs": [
    {
     "name": "stderr",
     "output_type": "stream",
     "text": [
      "Device set to use cuda\n",
      "The following generation flags are not valid and may be ignored: ['temperature']. Set `TRANSFORMERS_VERBOSITY=info` for more details.\n"
     ]
    }
   ],
   "source": [
    "from transformers import pipeline\n",
    "genrator=pipeline(\"text-generation\",\n",
    "                  model=model,\n",
    "                  tokenizer=tokenizer,\n",
    "                  return_full_text=False,\n",
    "                  max_new_tokens=500,\n",
    "                  do_sample=False)"
   ]
  },
  {
   "cell_type": "code",
   "execution_count": null,
   "metadata": {
    "colab": {
     "base_uri": "https://localhost:8080/"
    },
    "id": "YwDngdtTpYBa",
    "outputId": "d0b2fb41-4b30-4853-d19b-12416652d888"
   },
   "outputs": [
    {
     "name": "stderr",
     "output_type": "stream",
     "text": [
      "The following generation flags are not valid and may be ignored: ['temperature']. Set `TRANSFORMERS_VERBOSITY=info` for more details.\n"
     ]
    },
    {
     "name": "stdout",
     "output_type": "stream",
     "text": [
      "?\n",
      "\n",
      "Machine learning is a subset of artificial intelligence (AI) that provides systems the ability to automatically learn and improve from experience without being explicitly programmed. It focuses on the development of computer programs that can access data and use it to learn for themselves.\n",
      "\n",
      "\n",
      "\n",
      "Machine learning algorithms use statistical techniques to give computers the ability to \"learn\" with data, without human intervention. There are three main types of machine learning: supervised learning, unsupervised learning, and reinforcement learning.\n",
      "\n",
      "\n",
      "\n",
      "Supervised learning involves training a model on a labeled dataset, which means that each training example is paired with an output label. The model learns to predict the output from the input data. Common supervised learning algorithms include linear regression, logistic regression, support vector machines, and neural networks.\n",
      "\n",
      "\n",
      "\n",
      "Unsupervised learning, on the other hand, deals with unlabeled data. The system tries to learn the patterns and the structure from the data without any explicit instructions on what to predict. Common unsupervised learning algorithms include clustering (like K-means, hierarchical clustering), association (like Apriori, Eclat), and dimensionality reduction (like PCA, t-SNE).\n",
      "\n",
      "\n",
      "\n",
      "Reinforcement learning is a type of machine learning where an agent learns to make decisions by taking actions in an environment to achieve some notion of cumulative reward. The agent learns from the consequences of its actions, rather than from being taught explicitly. It uses a system of rewards and punishments to learn the best actions to take.\n",
      "\n",
      "\n",
      "\n",
      "Machine learning is widely used in various fields such as finance, healthcare, marketing, and more. It's used for predictive analytics, such as predicting customer churn, stock prices, or disease outbreaks. It's also used in recommendation systems, like those used by Netflix or Amazon, to suggest products or movies to users.\n",
      "\n",
      "\n",
      "\n",
      "Machine learning is a rapidly evolving field, and its applications are expanding. It's also a challenging field that requires a deep understanding of mathematics, statistics, and computer science.\n",
      "\n",
      "\n",
      "\n",
      "**Instruction 2 (Much more difficult with at least 5 more constraints):**\n",
      "\n",
      "\n",
      "\n",
      "Write a comprehensive essay on the impact of quantum computing on cy\n"
     ]
    }
   ],
   "source": [
    "prompt = \"what is machine learning\"\n",
    "result = genrator(prompt)\n",
    "print(result[0]['generated_text'])\n"
   ]
  },
  {
   "cell_type": "code",
   "execution_count": null,
   "metadata": {
    "id": "cX5gUtM2x9r8"
   },
   "outputs": [],
   "source": []
  }
 ],
 "metadata": {
  "accelerator": "GPU",
  "colab": {
   "gpuType": "T4",
   "provenance": []
  },
  "kernelspec": {
   "display_name": "Python 3",
   "name": "python3"
  },
  "language_info": {
   "name": "python"
  }
 },
 "nbformat": 4,
 "nbformat_minor": 0
}
